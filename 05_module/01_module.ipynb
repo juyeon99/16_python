{
 "cells": [
  {
   "cell_type": "markdown",
   "metadata": {},
   "source": [
    "# 01. Module\n",
    "---\n",
    "## 01-01. 모듈 개요\n",
    "### 01-01-01. 모듈이란?\n",
    "* 하나의 모듈은 서로 관련된 코드의 집합이자 하나의 파일을 의미\n",
    "* 함수, 클래스, 변수 등을 모듈 내에 정의 가능\n",
    "* 만들어진 모듈은 다른 Python 프로그램에서 가져와 사용 가능\n",
    "\n",
    "### 01-01-02. 모듈 장점\n",
    "1. 재사용성: 한 번 작성한 코드를 여러 프로그램에서 재사용 가능\n",
    "2. 유지보수성: 큰 프로그램을 작은 모듈로 나누어 코드 관리를 함으로써 유지보수를 용이하게 할 수 있다.\n",
    "3. 네임스페이스: 모듈마다 독립적인 네임스페이스를 제공하여 변수 이름 충돌 방지 가능\n",
    "\n",
    "## 01-02. 모듈 사용\n",
    "### 01-02-01. 모듈 사용 절차\n",
    "1. 파일(모듈)을 전체 import\n",
    "    * 하나의 경로와 파일명(확장자 제외 [.py])를 import 하면, 현재 스크립트에서 다른곳에 정의한 스크립트를 불러 올 수 있다."
   ]
  },
  {
   "cell_type": "code",
   "execution_count": 1,
   "metadata": {},
   "outputs": [
    {
     "name": "stdout",
     "output_type": "stream",
     "text": [
      "꾸어엉\n",
      "오지라퍼스\n"
     ]
    }
   ],
   "source": [
    "import ohgiraffers\n",
    "\n",
    "print(ohgiraffers.bear())       # 함수 가져오기\n",
    "print(ohgiraffers.ohgiraffers)  # 변수 가져오기"
   ]
  },
  {
   "cell_type": "markdown",
   "metadata": {},
   "source": [
    "2. from-import\n",
    "    * 특정 함수 또는 변수만 가져오기\n",
    "    * from 키워드 뒤에 import 대상 모듈을 지정하고 그 뒤로 import할 함수/변수 작성"
   ]
  },
  {
   "cell_type": "code",
   "execution_count": 2,
   "metadata": {},
   "outputs": [
    {
     "name": "stdout",
     "output_type": "stream",
     "text": [
      "꾸어엉\n"
     ]
    }
   ],
   "source": [
    "from ohgiraffers import bear\n",
    "print(bear())       # 참조하지 않고 사용 가능\n",
    "# print(ohgiraffers)  # name 'ohgiraffers' is not defined"
   ]
  },
  {
   "cell_type": "markdown",
   "metadata": {},
   "source": [
    "3. 모듈에 별칭 부여 가능\n",
    "    * 파일 이름이 길거나 복잡할 때 호출 시마다 모듈명을 작성하기 힘드므로 as를 붙여 모듈에 별칭을 부여할 수 있다."
   ]
  },
  {
   "cell_type": "code",
   "execution_count": 3,
   "metadata": {},
   "outputs": [
    {
     "name": "stdout",
     "output_type": "stream",
     "text": [
      "꾸어엉\n",
      "오지라퍼스\n"
     ]
    }
   ],
   "source": [
    "import ohgiraffers as og\n",
    "\n",
    "print(og.bear())\n",
    "print(og.ohgiraffers)"
   ]
  },
  {
   "cell_type": "markdown",
   "metadata": {},
   "source": [
    "4. 특정 함수 또는 변수에도 별칭 부여 가능"
   ]
  },
  {
   "cell_type": "code",
   "execution_count": 5,
   "metadata": {},
   "outputs": [
    {
     "name": "stdout",
     "output_type": "stream",
     "text": [
      "꾸어엉\n",
      "오지라퍼스\n"
     ]
    }
   ],
   "source": [
    "from ohgiraffers import bear as b, ohgiraffers as og\n",
    "\n",
    "print(b())\n",
    "print(og)"
   ]
  },
  {
   "cell_type": "markdown",
   "metadata": {},
   "source": [
    "5. 표준 라이브러리 모듈 import 가능"
   ]
  },
  {
   "cell_type": "code",
   "execution_count": 6,
   "metadata": {},
   "outputs": [
    {
     "name": "stdout",
     "output_type": "stream",
     "text": [
      "4.0\n",
      "120\n",
      "3.141592653589793\n"
     ]
    }
   ],
   "source": [
    "import math\n",
    "\n",
    "print(math.sqrt(16))\n",
    "print(math.factorial(5))\n",
    "print(math.pi)"
   ]
  },
  {
   "cell_type": "code",
   "execution_count": 8,
   "metadata": {},
   "outputs": [],
   "source": [
    "help('modules')"
   ]
  },
  {
   "cell_type": "code",
   "execution_count": 9,
   "metadata": {},
   "outputs": [
    {
     "name": "stdout",
     "output_type": "stream",
     "text": [
      "bear\n",
      "Hello\n"
     ]
    }
   ],
   "source": [
    "from og.team.teacher import Animal\n",
    "\n",
    "animal = Animal()\n",
    "\n",
    "print(animal.name)\n",
    "print(animal.greeting())"
   ]
  }
 ],
 "metadata": {
  "kernelspec": {
   "display_name": "pylecture_env",
   "language": "python",
   "name": "python3"
  },
  "language_info": {
   "codemirror_mode": {
    "name": "ipython",
    "version": 3
   },
   "file_extension": ".py",
   "mimetype": "text/x-python",
   "name": "python",
   "nbconvert_exporter": "python",
   "pygments_lexer": "ipython3",
   "version": "3.12.7"
  }
 },
 "nbformat": 4,
 "nbformat_minor": 2
}
