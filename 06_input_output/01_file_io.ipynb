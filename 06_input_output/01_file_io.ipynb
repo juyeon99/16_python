{
 "cells": [
  {
   "cell_type": "markdown",
   "metadata": {},
   "source": [
    "# 01. 파일 입출력\n",
    "---\n",
    "## 01-01. 파일 접근\n",
    "### 01-01-01. 파일 열기 open()\n",
    "* 인자로 경로를 포함한 파일명과 파일 열기 모드를 알파벳으로 전달하면서 호출하면 파일 객체를 반환하는 함수\n",
    "\n",
    "* 1st parameter: 파일명 (경로 포함)\n",
    "* 2nd parameter: 파일 열기 모드 설정\n",
    "    * r: 읽기 모드\n",
    "    * w: 쓰기 모드 (덮어쓰기)\n",
    "    * a: 수정 모드 (파일 끝에 내용 추가)"
   ]
  },
  {
   "cell_type": "code",
   "execution_count": 1,
   "metadata": {},
   "outputs": [],
   "source": [
    "f = open('lyrics.txt', 'r')"
   ]
  },
  {
   "cell_type": "markdown",
   "metadata": {},
   "source": [
    "### 01-01-02. 파일 닫기: close()\n",
    "* 열려있는 파일 객체를 닫아주는 역할"
   ]
  },
  {
   "cell_type": "code",
   "execution_count": 2,
   "metadata": {},
   "outputs": [],
   "source": [
    "f.close()"
   ]
  },
  {
   "cell_type": "markdown",
   "metadata": {},
   "source": [
    "## 01-02. 파일 쓰기\n",
    "### 01-02-01. write()\n",
    "* open한 파일 객체에 대해 write() 메소드를 사용하면 인자로 넘겨준 하나의 문자열을 파일에 작성"
   ]
  },
  {
   "cell_type": "code",
   "execution_count": 3,
   "metadata": {},
   "outputs": [],
   "source": [
    "f = open('lyrics_test.txt', 'w')\n",
    "f.write('Baby, watch your mouth (mouth)')\n",
    "f.close()"
   ]
  },
  {
   "cell_type": "markdown",
   "metadata": {},
   "source": [
    "### 01-02-02. writelines()\n",
    "* 인자로 넘겨준 리스트의 요소를 하나하나 파일에 작성"
   ]
  },
  {
   "cell_type": "code",
   "execution_count": 4,
   "metadata": {},
   "outputs": [],
   "source": [
    "data = [\n",
    "    \"Baby, watch your mouth (mouth)\\n\",\n",
    "    \"It come back around ('round)\\n\",\n",
    "    \"Once upon a time (time)\\n\",\n",
    "    \"We learned how to fly (fly)\\n\"\n",
    "]\n",
    "\n",
    "f = open('lyrics_test.txt', 'w')\n",
    "f.writelines(data)\n",
    "f.close()"
   ]
  },
  {
   "cell_type": "markdown",
   "metadata": {},
   "source": [
    "---\n",
    "## 01-03. 파일 읽기\n",
    "### 01-03-01. 파일 전체 읽기 read()\n",
    "* 파일 전체 내용을 읽어와 하나의 문자열로 반환"
   ]
  },
  {
   "cell_type": "code",
   "execution_count": 6,
   "metadata": {},
   "outputs": [
    {
     "name": "stdout",
     "output_type": "stream",
     "text": [
      "Baby, watch your mouth (mouth)\n",
      "It come back around ('round)\n",
      "Once upon a time (time)\n",
      "We learned how to fly (fly)\n",
      "Go look at your mirror, same damn clothes (git)\n",
      "You know how I feel? 개행복 (turn up)\n",
      "\n",
      "How many hours do we fly? (Ooh)\n",
      "I keep on dreamin' on the cloud (hah)\n",
      "Yeah, I'm on the mountain, yeah, I'm on the bay (pop)\n",
      "Everyday we vibin', mic drop, bam\n"
     ]
    }
   ],
   "source": [
    "f = open('lyrics.txt', 'r')\n",
    "data = f.read()\n",
    "print(data)\n",
    "f.close()"
   ]
  },
  {
   "cell_type": "markdown",
   "metadata": {},
   "source": [
    "### 01-03-02. 파일에서 한 줄만 읽기: readline()"
   ]
  },
  {
   "cell_type": "code",
   "execution_count": 8,
   "metadata": {},
   "outputs": [
    {
     "name": "stdout",
     "output_type": "stream",
     "text": [
      "Baby, watch your mouth (mouth)\n",
      "\n",
      "It come back around ('round)\n",
      "\n",
      "Once upon a time (time)\n",
      "\n",
      "We learned how to fly (fly)\n",
      "\n",
      "Go look at your mirror, same damn clothes (git)\n",
      "\n",
      "You know how I feel? 개행복 (turn up)\n",
      "\n",
      "\n",
      "\n",
      "How many hours do we fly? (Ooh)\n",
      "\n",
      "I keep on dreamin' on the cloud (hah)\n",
      "\n",
      "Yeah, I'm on the mountain, yeah, I'm on the bay (pop)\n",
      "\n",
      "Everyday we vibin', mic drop, bam\n"
     ]
    }
   ],
   "source": [
    "f = open('lyrics.txt', 'r')\n",
    "while True:\n",
    "    data = f.readline()\n",
    "    \n",
    "    if not data:\n",
    "        break\n",
    "    print(data)\n",
    "\n",
    "f.close()"
   ]
  },
  {
   "cell_type": "code",
   "execution_count": 9,
   "metadata": {},
   "outputs": [
    {
     "name": "stdout",
     "output_type": "stream",
     "text": [
      "['Baby, watch your mouth (mouth)\\n', \"It come back around ('round)\\n\", 'Once upon a time (time)\\n', 'We learned how to fly (fly)\\n', 'Go look at your mirror, same damn clothes (git)\\n', 'You know how I feel? 개행복 (turn up)\\n', '\\n', 'How many hours do we fly? (Ooh)\\n', \"I keep on dreamin' on the cloud (hah)\\n\", \"Yeah, I'm on the mountain, yeah, I'm on the bay (pop)\\n\", \"Everyday we vibin', mic drop, bam\"]\n"
     ]
    }
   ],
   "source": [
    "# 파일 전체를 줄마다 (리스트 형태로) 가져오기\n",
    "f = open('lyrics.txt', 'r')\n",
    "data = f.readlines()\n",
    "print(data)\n",
    "f.close()"
   ]
  },
  {
   "cell_type": "markdown",
   "metadata": {},
   "source": [
    "---\n",
    "## 01-04. 파일 내용 추가하기\n",
    "### 01-04-01. 파일 내용 추가 모드\n",
    "* 추가 모드 'a'를 사용하여 파일을 열어 내용 추가 가능"
   ]
  },
  {
   "cell_type": "code",
   "execution_count": 11,
   "metadata": {},
   "outputs": [],
   "source": [
    "f = open('lyrics.txt', 'a')\n",
    "f.write('\\n\\n방탄소년단 - MIC Drop')\n",
    "f.close()"
   ]
  },
  {
   "cell_type": "markdown",
   "metadata": {},
   "source": [
    "---\n",
    "## 01-05. with 키워드\n",
    "* 파일을 열어서 사용하고 사용이 종료되면 닫는 역할\n",
    "* with 문을 사용하면 with 블록을 벗어나는 순간, 객체가 닫히게 된다."
   ]
  },
  {
   "cell_type": "code",
   "execution_count": 12,
   "metadata": {},
   "outputs": [],
   "source": [
    "with open(\"lyrics_test.txt\", 'w') as f:\n",
    "    f.write(\"Life is too short, you need Python\")"
   ]
  },
  {
   "cell_type": "code",
   "execution_count": null,
   "metadata": {},
   "outputs": [],
   "source": []
  }
 ],
 "metadata": {
  "kernelspec": {
   "display_name": "pylecture_env",
   "language": "python",
   "name": "python3"
  },
  "language_info": {
   "codemirror_mode": {
    "name": "ipython",
    "version": 3
   },
   "file_extension": ".py",
   "mimetype": "text/x-python",
   "name": "python",
   "nbconvert_exporter": "python",
   "pygments_lexer": "ipython3",
   "version": "3.12.7"
  }
 },
 "nbformat": 4,
 "nbformat_minor": 2
}
