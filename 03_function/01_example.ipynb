{
 "cells": [
  {
   "cell_type": "code",
   "execution_count": 1,
   "metadata": {},
   "outputs": [
    {
     "name": "stdout",
     "output_type": "stream",
     "text": [
      "120\n"
     ]
    }
   ],
   "source": [
    "# 여러 개의 숫자를 입력받아 모두 곱한 결과를 반환하는 multiply_all 함수를 만드세요.\n",
    "def multiply_all(*args):\n",
    "    result = 1\n",
    "    \n",
    "    for i in args:\n",
    "        result *= i\n",
    "    \n",
    "    return result\n",
    "\n",
    "result = multiply_all(1,2,3,4,5)\n",
    "print(result)"
   ]
  },
  {
   "cell_type": "code",
   "execution_count": 6,
   "metadata": {},
   "outputs": [
    {
     "name": "stdout",
     "output_type": "stream",
     "text": [
      "0\n"
     ]
    }
   ],
   "source": [
    "# 숫자를 입력받아 양수인지 음수인지 0인지 판별하는 check_number 함수를 삼항 연산자를 사용하여 만드세요.\n",
    "def check_number(n):\n",
    "    return '양수' if n > 0 else ('음수' if n < 0 else 0)\n",
    "\n",
    "print(check_number(0))"
   ]
  },
  {
   "cell_type": "code",
   "execution_count": 2,
   "metadata": {},
   "outputs": [
    {
     "name": "stdout",
     "output_type": "stream",
     "text": [
      "[1, 4, 9, 16, 25]\n"
     ]
    }
   ],
   "source": [
    "# 주어진 리스트의 각 요소를 제곱하는 람다 함수를 작성하세요.\n",
    "numbers = [1, 2, 3, 4, 5]\n",
    "squared_numbers = map(lambda x : x**2, numbers)\n",
    "\n",
    "print(list(squared_numbers))"
   ]
  }
 ],
 "metadata": {
  "kernelspec": {
   "display_name": "pylecture_env",
   "language": "python",
   "name": "python3"
  },
  "language_info": {
   "codemirror_mode": {
    "name": "ipython",
    "version": 3
   },
   "file_extension": ".py",
   "mimetype": "text/x-python",
   "name": "python",
   "nbconvert_exporter": "python",
   "pygments_lexer": "ipython3",
   "version": "3.12.7"
  }
 },
 "nbformat": 4,
 "nbformat_minor": 2
}
