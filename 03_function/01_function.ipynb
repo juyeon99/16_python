{
 "cells": [
  {
   "cell_type": "markdown",
   "metadata": {},
   "source": [
    "# 01. 함수\n",
    "---\n",
    "## 01-01. 함수 개요\n",
    "### 01-01-01. 함수란?\n",
    "* 특정 기능을 하기 위한 코드의 집합을 의미\n",
    "* 함수를 정의해놓으면 해당 기능이 필요한 위치에서 함수를 호출하여 간편하게 사용 가능\n",
    "\n",
    "## 01-01-02. 함수 표현식\n",
    "* def 키워드를 사용하여 함수 정의 (define)\n",
    "* 함수 이름 뒤에 ()와 :를 작성, 함수에서 실행할 내용은 **반드시** indent"
   ]
  },
  {
   "cell_type": "code",
   "execution_count": 2,
   "metadata": {},
   "outputs": [
    {
     "name": "stdout",
     "output_type": "stream",
     "text": [
      "Hello World!\n"
     ]
    }
   ],
   "source": [
    "def basic_function():\n",
    "    print(\"Hello World!\")\n",
    "\n",
    "basic_function()"
   ]
  },
  {
   "cell_type": "markdown",
   "metadata": {},
   "source": [
    "### 01-02-01. parameter\n",
    "* 함수 생성 시 함수명 앞에 붙이는 소괄호 안에 parameter로 전달받을 값의 변수명을 넣을 수 있다."
   ]
  },
  {
   "cell_type": "code",
   "execution_count": 3,
   "metadata": {},
   "outputs": [
    {
     "name": "stdout",
     "output_type": "stream",
     "text": [
      "jenny : hi\n"
     ]
    }
   ],
   "source": [
    "def greeting(name, greet):\n",
    "    print(name, \":\", greet)\n",
    "\n",
    "greeting(\"jenny\", 'hi')"
   ]
  },
  {
   "cell_type": "markdown",
   "metadata": {},
   "source": [
    "* 함수를 정의할 때 parameter의 기본값을 지정 가능\n",
    "    * 함수 호출 시 인자를 보내지 않으면 함수 선언부에서 미리 지정한 기본값을 사용하여 함수 실행"
   ]
  },
  {
   "cell_type": "code",
   "execution_count": 4,
   "metadata": {},
   "outputs": [
    {
     "name": "stdout",
     "output_type": "stream",
     "text": [
      "jenny : 처음 뵙겠습니다!\n"
     ]
    }
   ],
   "source": [
    "def greeting(name, greet=\"처음 뵙겠습니다!\"):\n",
    "    print(name, \":\", greet)\n",
    "\n",
    "greeting(\"jenny\")"
   ]
  },
  {
   "cell_type": "markdown",
   "metadata": {},
   "source": [
    "### 01-02-02. 인자\n",
    "* 함수 호출 시 함수명에 ()를 붙여 호출, 이때 소괄호 안에 전달하는 값을 인자라고 한다.\n",
    "* 함수 인자를 보내는 방식\n",
    "    1. 위치 인자: 위치로 매칭\n",
    "    2. 키워드 인자: parameter 이름으로 매칭\n",
    "\n",
    "    * 이때 위치 인자를 먼저 사용하면 뒤에 키워드 인자 사용 가능\n",
    "    * 단, 위치 인자"
   ]
  },
  {
   "cell_type": "code",
   "execution_count": 5,
   "metadata": {},
   "outputs": [],
   "source": [
    "def information(name, color):\n",
    "    print(f\"{name}의 최애 색상: {color}\")"
   ]
  },
  {
   "cell_type": "code",
   "execution_count": 7,
   "metadata": {},
   "outputs": [
    {
     "name": "stdout",
     "output_type": "stream",
     "text": [
      "jenny의 최애 색상: red\n"
     ]
    }
   ],
   "source": [
    "# 위치 인자\n",
    "# 인자의 순서 중요\n",
    "\n",
    "information('jenny', 'red')\n",
    "# information('red', 'jenny')"
   ]
  },
  {
   "cell_type": "code",
   "execution_count": 8,
   "metadata": {},
   "outputs": [
    {
     "name": "stdout",
     "output_type": "stream",
     "text": [
      "jenny의 최애 색상: red\n",
      "jenny의 최애 색상: red\n"
     ]
    }
   ],
   "source": [
    "# 키워드 인자\n",
    "information(color='red', name='jenny')\n",
    "information('jenny', color='red')\n",
    "# information(color='red', 'jenny') # Error"
   ]
  },
  {
   "cell_type": "markdown",
   "metadata": {},
   "source": [
    "## 01-03. 반환값\n",
    "### 01-03-01. return\n",
    "* 함수 블럭 내부에서 return 키워드를 만나면 함수의 작동 중단\n",
    "* return 뒤에 변수 또는 값이 오면 해당 값을 함수 호출 위치에 반환하며 중단된다."
   ]
  },
  {
   "cell_type": "code",
   "execution_count": 34,
   "metadata": {},
   "outputs": [
    {
     "name": "stdout",
     "output_type": "stream",
     "text": [
      "안녕하세요, 곰입니다. 반갑습니다~\n"
     ]
    }
   ],
   "source": [
    "def introduce(name):\n",
    "    return f'안녕하세요, {name}입니다. 반갑습니다~'\n",
    "\n",
    "result = introduce('곰')\n",
    "print(result)"
   ]
  },
  {
   "cell_type": "markdown",
   "metadata": {},
   "source": [
    "* return 값을 여러개로 전달 가능 (튜플 사용)"
   ]
  },
  {
   "cell_type": "code",
   "execution_count": 9,
   "metadata": {},
   "outputs": [
    {
     "name": "stdout",
     "output_type": "stream",
     "text": [
      "(10, 4, 21, 2.3333333333333335)\n",
      "10 4 21 2.3333333333333335\n"
     ]
    }
   ],
   "source": [
    "def cal(a,b):\n",
    "    return a+b, a-b, a*b, a/b\n",
    "\n",
    "print(cal(7,3))\n",
    "\n",
    "plus, minus, multiply, divide = cal(7,3)\n",
    "print(plus, minus, multiply, divide)"
   ]
  },
  {
   "cell_type": "markdown",
   "metadata": {},
   "source": [
    "## 01-04. 패키징과 언패키징\n",
    "### 01-04-01. 패키징\n",
    "* 위치 인자가 많을 때 parameter에 *를 붙여 하나의 객체로 처리 가능"
   ]
  },
  {
   "cell_type": "code",
   "execution_count": 15,
   "metadata": {},
   "outputs": [
    {
     "name": "stdout",
     "output_type": "stream",
     "text": [
      "55\n"
     ]
    }
   ],
   "source": [
    "def add_many(*args):\n",
    "    result = 0\n",
    "    \n",
    "    for i in args:\n",
    "        result += i\n",
    "    \n",
    "    return result\n",
    "\n",
    "result = add_many(1,2,3,4,5,6,7,8,9,10)\n",
    "print(result)"
   ]
  },
  {
   "cell_type": "markdown",
   "metadata": {},
   "source": [
    "* 키워드 인자인 경우 **를 붙여 하나의 객체로 처리 가능"
   ]
  },
  {
   "cell_type": "code",
   "execution_count": 19,
   "metadata": {},
   "outputs": [
    {
     "name": "stdout",
     "output_type": "stream",
     "text": [
      "name:곰\n",
      "age:20\n",
      "job:강사\n",
      "hobby:코딩\n"
     ]
    }
   ],
   "source": [
    "def print_person_info(**keywords):\n",
    "    for key, value in keywords.items():\n",
    "        print(f'{key}:{value}')\n",
    "\n",
    "print_person_info(name='곰', age=20, job='강사', hobby='코딩')"
   ]
  },
  {
   "cell_type": "markdown",
   "metadata": {},
   "source": [
    "### 01-04-02. 언패키징\n",
    "* 패키징과 반대되는 개념으로 여러개의 객체를 포함하는 하나의 객체를 풀어준다."
   ]
  },
  {
   "cell_type": "code",
   "execution_count": 20,
   "metadata": {},
   "outputs": [
    {
     "name": "stdout",
     "output_type": "stream",
     "text": [
      "6\n"
     ]
    }
   ],
   "source": [
    "def sum(a,b,c):\n",
    "    return a + b + c\n",
    "\n",
    "number = [1, 2, 3]\n",
    "\n",
    "print(sum(*number))"
   ]
  },
  {
   "cell_type": "markdown",
   "metadata": {},
   "source": [
    "---\n",
    "## 01-05. 람다 (lambda)\n",
    "### 01-05-01. 람다란?\n",
    "* 람다는 일회성의 간단한 함수를 정의할 때 유용하게 사용할 수 있는, 함수를 보다 간단하고 쉽게 선언하는 방법\n",
    "* parameter로 함수를 전달해야 할 때, 함수 구문을 작성하는 것이 번거롭고 코드가 지나치게 길어질 때 사용\n",
    "* 즉, 함수 기능을 parameter로 전달하는 코드를 더 효율적으로 작성하게 해준다.\n",
    "\n",
    "### 01-05-02. 람다 사용 예시\n",
    "1. 람다 기본"
   ]
  },
  {
   "cell_type": "code",
   "execution_count": 22,
   "metadata": {},
   "outputs": [],
   "source": [
    "변수명 = lambda (parameter): (함수 실행 내용)"
   ]
  },
  {
   "cell_type": "code",
   "execution_count": 24,
   "metadata": {},
   "outputs": [
    {
     "name": "stdout",
     "output_type": "stream",
     "text": [
      "8\n"
     ]
    }
   ],
   "source": [
    "add = lambda x, y : x + y\n",
    "print(add(3,5))"
   ]
  },
  {
   "cell_type": "markdown",
   "metadata": {},
   "source": [
    "2. 람다 함수를 고차 함수의 인자로 전달"
   ]
  },
  {
   "cell_type": "code",
   "execution_count": 26,
   "metadata": {},
   "outputs": [
    {
     "name": "stdout",
     "output_type": "stream",
     "text": [
      "[1, 4, 9, 16, 25]\n"
     ]
    }
   ],
   "source": [
    "def square(x):\n",
    "    return x**2\n",
    "\n",
    "numbers = [1,2,3,4,5]\n",
    "\n",
    "# map: 첫 번째 인자로 주어진 함수를 두 번째 주어진 리스트의 각각의 요소에 적용하여 새로운 리스트를 반환\n",
    "squared_numbers = map(square, numbers)\n",
    "\n",
    "print(list(squared_numbers))"
   ]
  },
  {
   "cell_type": "code",
   "execution_count": 27,
   "metadata": {},
   "outputs": [
    {
     "name": "stdout",
     "output_type": "stream",
     "text": [
      "[1, 4, 9, 16, 25]\n"
     ]
    }
   ],
   "source": [
    "numbers = [1,2,3,4,5]\n",
    "\n",
    "squared_numbers = map(lambda x : x**2, numbers)\n",
    "\n",
    "print(list(squared_numbers))"
   ]
  },
  {
   "cell_type": "markdown",
   "metadata": {},
   "source": [
    "3. 람다 함수를 고차 함수의 인자로 전달 (배열 요소 필터링)\n",
    "* filter()\n",
    "    * 첫 번째 인자로 주어진 함수를 두 번째 주어진 리스트의 각각의 요소에 적용하여, 조건을 만족하는 요소들만 포함하는 객체 반환"
   ]
  },
  {
   "cell_type": "code",
   "execution_count": 28,
   "metadata": {},
   "outputs": [
    {
     "name": "stdout",
     "output_type": "stream",
     "text": [
      "[2, 4, 6]\n"
     ]
    }
   ],
   "source": [
    "numbers = [1,2,3,4,5,6]\n",
    "even_numbers = filter(lambda x : x % 2 == 0, numbers)\n",
    "print(list(even_numbers))"
   ]
  },
  {
   "cell_type": "markdown",
   "metadata": {},
   "source": [
    "### 01-05-03. 삼항연산자"
   ]
  },
  {
   "cell_type": "code",
   "execution_count": 29,
   "metadata": {},
   "outputs": [],
   "source": [
    "def func(a):\n",
    "    if a > 10:\n",
    "        return 'a가 10보다 크다.'\n",
    "    else:\n",
    "        return 'a가 10보다 작거나 같다.'\n",
    "\n",
    "def func2(a):\n",
    "    return 'a가 10보다 크다.' if a > 10 else 'a가 10보다 작거나 같다.'"
   ]
  },
  {
   "cell_type": "code",
   "execution_count": 32,
   "metadata": {},
   "outputs": [
    {
     "name": "stdout",
     "output_type": "stream",
     "text": [
      "['음수', '음수', 0, '양수', '양수']\n"
     ]
    }
   ],
   "source": [
    "# list를 양수, 음수, 0으로 구분지어 같은 길이의 리스트로 반환\n",
    "numbers = [-3,-2,0,6,8]\n",
    "\n",
    "numbers_changed = map(lambda i : '양수' if i > 0 else ('음수' if i < 0 else 0), numbers)\n",
    "\n",
    "print(list(numbers_changed))"
   ]
  },
  {
   "cell_type": "code",
   "execution_count": null,
   "metadata": {},
   "outputs": [],
   "source": []
  }
 ],
 "metadata": {
  "kernelspec": {
   "display_name": "pylecture_env",
   "language": "python",
   "name": "python3"
  },
  "language_info": {
   "codemirror_mode": {
    "name": "ipython",
    "version": 3
   },
   "file_extension": ".py",
   "mimetype": "text/x-python",
   "name": "python",
   "nbconvert_exporter": "python",
   "pygments_lexer": "ipython3",
   "version": "3.12.7"
  }
 },
 "nbformat": 4,
 "nbformat_minor": 2
}
