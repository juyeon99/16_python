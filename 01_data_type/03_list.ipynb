{
 "cells": [
  {
   "cell_type": "markdown",
   "metadata": {},
   "source": [
    "# 03. 리스트\n",
    "---\n",
    "## 03-01. 리스트 개요\n",
    "### 03-01-01. 리스트란?\n",
    "* 일련의 값이 모인 집합을 다루기 위한 자료형, python은 배열과 같은 표현식을 쓰지만, 일반적인 프로그래밍 언어와 다르게, 길이를 동적으로 조절 가능하여 list라고 부른다.\n",
    "\n",
    "### 03-01-02. 리스트 표현식"
   ]
  },
  {
   "cell_type": "code",
   "execution_count": 1,
   "metadata": {},
   "outputs": [],
   "source": [
    "리스트명 = ['값1', '값2', ...]"
   ]
  },
  {
   "cell_type": "markdown",
   "metadata": {},
   "source": [
    "* List의 각 요소의 자료형은 무엇이든 될 수 있다. (서로 다른 자료형이어도 OK)\n",
    "* List에 저장되는 요소들은 0부터 시작하는 인덱스 체계로 구분해서 저장된다."
   ]
  },
  {
   "cell_type": "code",
   "execution_count": 3,
   "metadata": {},
   "outputs": [
    {
     "name": "stdout",
     "output_type": "stream",
     "text": [
      "['orange', 1, 'pear', 'apple', 'apple']\n",
      "1\n"
     ]
    }
   ],
   "source": [
    "fruits = ['orange', 1, 'pear', 'apple', 'apple']\n",
    "\n",
    "print(fruits)\n",
    "print(fruits[1])"
   ]
  },
  {
   "cell_type": "markdown",
   "metadata": {},
   "source": [
    "### 03-01-03. 문자열의 split()\n",
    "* 문자열을 구분자 기준으로 분리하여 list로 변환해주는 메소드"
   ]
  },
  {
   "cell_type": "code",
   "execution_count": 4,
   "metadata": {},
   "outputs": [
    {
     "name": "stdout",
     "output_type": "stream",
     "text": [
      "['빨', '주', '노', '초', '파', '남', '보']\n"
     ]
    }
   ],
   "source": [
    "rainbow = '빨-주-노-초-파-남-보'\n",
    "print(rainbow.split('-'))"
   ]
  },
  {
   "cell_type": "markdown",
   "metadata": {},
   "source": [
    "### 03-01-04. list() 메소드\n",
    "* 반복 가능한 객체를 받아 각 요소를 리스트의 원소로 반환"
   ]
  },
  {
   "cell_type": "code",
   "execution_count": 6,
   "metadata": {},
   "outputs": [
    {
     "name": "stdout",
     "output_type": "stream",
     "text": [
      "True\n",
      "<class 'list'>\n",
      "<class 'list'>\n"
     ]
    }
   ],
   "source": [
    "list1 = []      # 빈 리스트 생성\n",
    "list2 = list()  # 새로운 빈 리스트 생성\n",
    "\n",
    "print(list1 == list2)\n",
    "print(type(list1))\n",
    "print(type(list2))"
   ]
  },
  {
   "cell_type": "code",
   "execution_count": 7,
   "metadata": {},
   "outputs": [
    {
     "name": "stdout",
     "output_type": "stream",
     "text": [
      "['h', 'e', 'l', 'l', 'o']\n"
     ]
    }
   ],
   "source": [
    "list3 = list('hello')\n",
    "print(list3)"
   ]
  },
  {
   "cell_type": "markdown",
   "metadata": {},
   "source": [
    "---\n",
    "## 03-02. 리스트 연산"
   ]
  },
  {
   "cell_type": "code",
   "execution_count": 9,
   "metadata": {},
   "outputs": [],
   "source": [
    "safari_list = ['Bear', 'Koala', \"Gorilla\", \"Squirrel\"]\n",
    "another_safari_list = [\"Monkey\", \"Tiger\", \"Wolf\"]"
   ]
  },
  {
   "cell_type": "markdown",
   "metadata": {},
   "source": [
    "### 03-02-01. 리스트 합치기: +\n",
    "* 리스트 간 + 연산자를 이용해 하나로 합칠 수 있다."
   ]
  },
  {
   "cell_type": "code",
   "execution_count": 10,
   "metadata": {},
   "outputs": [
    {
     "name": "stdout",
     "output_type": "stream",
     "text": [
      "['Bear', 'Koala', 'Gorilla', 'Squirrel', 'Monkey', 'Tiger', 'Wolf']\n"
     ]
    }
   ],
   "source": [
    "print(safari_list + another_safari_list)"
   ]
  },
  {
   "cell_type": "markdown",
   "metadata": {},
   "source": [
    "### 03-02-02. 리스트 반복: *\n",
    "* 리스트에 * 연산을 하면 요소 반복 가능"
   ]
  },
  {
   "cell_type": "code",
   "execution_count": 11,
   "metadata": {},
   "outputs": [
    {
     "name": "stdout",
     "output_type": "stream",
     "text": [
      "['Bear', 'Koala', 'Gorilla', 'Squirrel', 'Bear', 'Koala', 'Gorilla', 'Squirrel', 'Bear', 'Koala', 'Gorilla', 'Squirrel']\n"
     ]
    }
   ],
   "source": [
    "print(safari_list * 3)"
   ]
  },
  {
   "cell_type": "markdown",
   "metadata": {},
   "source": [
    "## 03-03. 리스트 메소드"
   ]
  },
  {
   "cell_type": "code",
   "execution_count": 12,
   "metadata": {},
   "outputs": [],
   "source": [
    "fruits = ['orange', 'apple', 'pear', 'banana', 'kiwi', 'apple']"
   ]
  },
  {
   "cell_type": "markdown",
   "metadata": {},
   "source": [
    "### index()\n",
    "* 리스트에서 특정 요소의 인덱스 값을 구하는 메소드"
   ]
  },
  {
   "cell_type": "code",
   "execution_count": 13,
   "metadata": {},
   "outputs": [
    {
     "name": "stdout",
     "output_type": "stream",
     "text": [
      "index:  1\n"
     ]
    }
   ],
   "source": [
    "print(\"index: \", fruits.index(\"apple\"))\n",
    "\n",
    "# print(\"index: \", fruits.index(\"apple1\"))    # error\n",
    "\n",
    "# 두 번째 parameter에 인덱스를 주면 검색을 시작할 인덱스라는 의미\n",
    "print(\"index: \", fruits.index(\"apple\", 3))"
   ]
  },
  {
   "cell_type": "markdown",
   "metadata": {},
   "source": [
    "### reverse()\n",
    "* 배열을 역순으로 바꿈"
   ]
  },
  {
   "cell_type": "code",
   "execution_count": 16,
   "metadata": {},
   "outputs": [
    {
     "name": "stdout",
     "output_type": "stream",
     "text": [
      "['orange', 'apple', 'pear', 'banana', 'kiwi', 'apple']\n",
      "['apple', 'kiwi', 'banana', 'pear', 'apple', 'orange']\n"
     ]
    }
   ],
   "source": [
    "print(fruits)\n",
    "\n",
    "fruits.reverse()\n",
    "\n",
    "print(fruits)"
   ]
  },
  {
   "cell_type": "markdown",
   "metadata": {},
   "source": [
    "### append()\n",
    "* 리스트의 끝에 새로운 요소 추가"
   ]
  },
  {
   "cell_type": "code",
   "execution_count": 17,
   "metadata": {},
   "outputs": [
    {
     "name": "stdout",
     "output_type": "stream",
     "text": [
      "['apple', 'kiwi', 'banana', 'pear', 'apple', 'orange', 'pineapple']\n"
     ]
    }
   ],
   "source": [
    "fruits.append(\"pineapple\")\n",
    "print(fruits)"
   ]
  },
  {
   "cell_type": "markdown",
   "metadata": {},
   "source": [
    "### extend()\n",
    "* 리스트의 끝에 다른 리스트의 요소 추가"
   ]
  },
  {
   "cell_type": "code",
   "execution_count": 19,
   "metadata": {},
   "outputs": [
    {
     "name": "stdout",
     "output_type": "stream",
     "text": [
      "['apple', 'kiwi', 'banana', 'pear', 'apple', 'orange', 'pineapple', 'rainbow fruit', 'sweet lemon', 'happy apple', 'rainbow fruit', 'sweet lemon', 'happy apple']\n"
     ]
    }
   ],
   "source": [
    "another_fruits = ['rainbow fruit', 'sweet lemon', 'happy apple']\n",
    "\n",
    "fruits.extend(another_fruits)\n",
    "print(fruits)"
   ]
  },
  {
   "cell_type": "markdown",
   "metadata": {},
   "source": [
    "### insert()\n",
    "* 특정 위치에 요소 삽입"
   ]
  },
  {
   "cell_type": "code",
   "execution_count": 20,
   "metadata": {},
   "outputs": [
    {
     "name": "stdout",
     "output_type": "stream",
     "text": [
      "['apple', 'monkey banana', 'kiwi', 'banana', 'pear', 'apple', 'orange', 'pineapple', 'rainbow fruit', 'sweet lemon', 'happy apple', 'rainbow fruit', 'sweet lemon', 'happy apple']\n"
     ]
    }
   ],
   "source": [
    "fruits.insert(1, 'monkey banana')\n",
    "print(fruits)"
   ]
  },
  {
   "cell_type": "markdown",
   "metadata": {},
   "source": [
    "### sort()\n",
    "* 리스트의 요소를 정렬"
   ]
  },
  {
   "cell_type": "code",
   "execution_count": 24,
   "metadata": {},
   "outputs": [
    {
     "name": "stdout",
     "output_type": "stream",
     "text": [
      "['apple', 'apple', 'banana', 'happy apple', 'happy apple', 'kiwi', 'monkey banana', 'orange', 'pear', 'pineapple', 'rainbow fruit', 'rainbow fruit', 'sweet lemon', 'sweet lemon']\n",
      "['sweet lemon', 'sweet lemon', 'rainbow fruit', 'rainbow fruit', 'pineapple', 'pear', 'orange', 'monkey banana', 'kiwi', 'happy apple', 'happy apple', 'banana', 'apple', 'apple']\n",
      "['pear', 'kiwi', 'apple', 'apple', 'orange', 'banana', 'pineapple', 'sweet lemon', 'sweet lemon', 'happy apple', 'happy apple', 'rainbow fruit', 'rainbow fruit', 'monkey banana']\n"
     ]
    }
   ],
   "source": [
    "# 기본 정렬\n",
    "fruits.sort()\n",
    "print(fruits)\n",
    "\n",
    "# 내림차순 정렬\n",
    "fruits.sort(reverse=True)\n",
    "print(fruits)\n",
    "\n",
    "# 문자열 길이가 짧은 순으로 정렬\n",
    "fruits.sort(key=len)\n",
    "print(fruits)"
   ]
  },
  {
   "cell_type": "markdown",
   "metadata": {},
   "source": [
    "### remove()\n",
    "* 리스트에서 특정 값을 찾아 제거"
   ]
  },
  {
   "cell_type": "code",
   "execution_count": 25,
   "metadata": {},
   "outputs": [
    {
     "name": "stdout",
     "output_type": "stream",
     "text": [
      "['pear', 'apple', 'apple', 'orange', 'banana', 'pineapple', 'sweet lemon', 'sweet lemon', 'happy apple', 'happy apple', 'rainbow fruit', 'rainbow fruit', 'monkey banana']\n"
     ]
    }
   ],
   "source": [
    "fruits.remove('kiwi')\n",
    "print(fruits)"
   ]
  },
  {
   "cell_type": "markdown",
   "metadata": {},
   "source": [
    "### pop()\n",
    "* 특정 위치에 있는 요소 제거하고 반환\n",
    "* 인덱스를 지정하지 않으면 리스트의 마지막 요소를 제거하고 반환"
   ]
  },
  {
   "cell_type": "code",
   "execution_count": 26,
   "metadata": {},
   "outputs": [
    {
     "name": "stdout",
     "output_type": "stream",
     "text": [
      "pear\n",
      "['apple', 'apple', 'orange', 'banana', 'pineapple', 'sweet lemon', 'sweet lemon', 'happy apple', 'happy apple', 'rainbow fruit', 'rainbow fruit', 'monkey banana']\n"
     ]
    }
   ],
   "source": [
    "temp = fruits.pop(0)\n",
    "print(temp)\n",
    "\n",
    "print(fruits)"
   ]
  },
  {
   "cell_type": "markdown",
   "metadata": {},
   "source": [
    "---\n",
    "## 03-05. del 키워드\n",
    "### 03-05-01. del\n",
    "* 객체를 삭제할 때 사용되는 키워드\n",
    "* 리스트의 특정 요소를 삭제하거나 변수를 삭제할 때 사용"
   ]
  },
  {
   "cell_type": "code",
   "execution_count": 31,
   "metadata": {},
   "outputs": [
    {
     "name": "stdout",
     "output_type": "stream",
     "text": [
      "[]\n"
     ]
    }
   ],
   "source": [
    "abc_list = ['a','b','c','d','e','f']\n",
    "# del abc_list[0]     # 0번째 인덱스의 요소 제거\n",
    "\n",
    "# del abc_list[1:3]   # [1,3) (3 => exclusive) 까지 제거\n",
    "\n",
    "del abc_list[:]     # 모든 요소 제거\n",
    "print(abc_list)\n",
    "\n",
    "# del abc_list        # list 자체를 제거\n",
    "# print(abc_list)     # Error"
   ]
  }
 ],
 "metadata": {
  "kernelspec": {
   "display_name": "pylecture_env",
   "language": "python",
   "name": "python3"
  },
  "language_info": {
   "codemirror_mode": {
    "name": "ipython",
    "version": 3
   },
   "file_extension": ".py",
   "mimetype": "text/x-python",
   "name": "python",
   "nbconvert_exporter": "python",
   "pygments_lexer": "ipython3",
   "version": "3.12.7"
  }
 },
 "nbformat": 4,
 "nbformat_minor": 2
}
