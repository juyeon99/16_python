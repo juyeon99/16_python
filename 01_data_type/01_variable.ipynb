{
 "cells": [
  {
   "cell_type": "markdown",
   "metadata": {},
   "source": [
    "# 01. 변수\n",
    "## 01-01. 변수 개요"
   ]
  },
  {
   "cell_type": "markdown",
   "metadata": {},
   "source": [
    "### 01-01-01. 변수란?\n",
    "* 프로그램에서 다루는 어떤 자료(정보)를 담는 공간이다.\n",
    "### 01-01-02. 변수 생성\n",
    "* 변수 생성은 대입 연산자 = 를 기준으로 좌항에는 변수의 이름, 우항에는 변수에 담을 자료 작성\n",
    "* 변수의 생성과 변수의 값 변경 모두 같은 방법으로 작성\n",
    "* 파이썬은 변수 공간의 자료형 선언이 없다.\n",
    "\n",
    "ex) [변수명] = [데이터]"
   ]
  },
  {
   "cell_type": "markdown",
   "metadata": {},
   "source": [
    "## 01-02. 대입연산자\n",
    "### 01-02-01. 대입연산자 \"=\"\n",
    "* 대입 연산자를 기준으로 우항에 있는 값을 좌항의 변수 공간에 대입하는 의미를 가진다.\n",
    "* 대입 연산자의 우항에도 변수명이 올 수 있는데, 이 때 변수명은 공간이 아닌 값으로 인식"
   ]
  },
  {
   "cell_type": "code",
   "execution_count": 2,
   "metadata": {},
   "outputs": [
    {
     "data": {
      "text/plain": [
       "'ohgiraffers'"
      ]
     },
     "execution_count": 2,
     "metadata": {},
     "output_type": "execute_result"
    }
   ],
   "source": [
    "team_name = \"ohgiraffers\"\n",
    "\n",
    "my_team = team_name\n",
    "\n",
    "my_team"
   ]
  },
  {
   "cell_type": "markdown",
   "metadata": {},
   "source": [
    "---\n",
    "## 01-03. 변수 이름 명명 규칙\n",
    "### 01-03-01. 암묵적 규칙\n",
    "1. 변수명은 변수에 담긴 값이 무엇인지 직관적으로 알 수 있게 적는다."
   ]
  },
  {
   "cell_type": "code",
   "execution_count": 4,
   "metadata": {},
   "outputs": [
    {
     "data": {
      "text/plain": [
       "170"
      ]
     },
     "execution_count": 4,
     "metadata": {},
     "output_type": "execute_result"
    }
   ],
   "source": [
    "# 키(cm) 정보를 변수에 담기\n",
    "\n",
    "height = 170\n",
    "\n",
    "height"
   ]
  },
  {
   "cell_type": "markdown",
   "metadata": {},
   "source": [
    "2. 변수명은 스네이크 케이스(소문자 + _)로 작성, 대소문자 구별"
   ]
  },
  {
   "cell_type": "code",
   "execution_count": 5,
   "metadata": {},
   "outputs": [
    {
     "name": "stdout",
     "output_type": "stream",
     "text": [
      "오지라퍼스\n",
      "Ohgiraffers\n"
     ]
    }
   ],
   "source": [
    "team_name = \"오지라퍼스\"\n",
    "Team_name = \"Ohgiraffers\"\n",
    "\n",
    "print(team_name)\n",
    "print(Team_name)"
   ]
  },
  {
   "cell_type": "markdown",
   "metadata": {},
   "source": [
    "3. 한글 변수명 지정 가능<br>\n",
    "=> 하지만 인코딩 문제를 야기할 수 있기 때문에 사용 지양"
   ]
  },
  {
   "cell_type": "code",
   "execution_count": 6,
   "metadata": {},
   "outputs": [
    {
     "name": "stdout",
     "output_type": "stream",
     "text": [
      "오지라퍼스\n"
     ]
    }
   ],
   "source": [
    "우리팀 = \"오지라퍼스\"\n",
    "print(우리팀)"
   ]
  },
  {
   "cell_type": "markdown",
   "metadata": {},
   "source": [
    "### 01-03-02. 문법 오류를 야기하는 규칙\n",
    "<br>\n",
    "1. 영문과 숫자 혼합해 작성 가능. <br>하지만 숫자를 가장 앞에 작성 불가, 숫자로만 구성하는 것도 불가"
   ]
  },
  {
   "cell_type": "code",
   "execution_count": 10,
   "metadata": {},
   "outputs": [],
   "source": [
    "team_1_name = 'ohgiraffers'\n",
    "# 1_team_name = 'ohgiraffers'\n",
    "\n",
    "# 20240509 = 'ohgiraffers'\n",
    "# print(20240509)"
   ]
  },
  {
   "cell_type": "markdown",
   "metadata": {},
   "source": [
    "2. _를 제외한 특수문자 사용 불가"
   ]
  },
  {
   "cell_type": "code",
   "execution_count": 12,
   "metadata": {},
   "outputs": [],
   "source": [
    "# team_@_name = 'ohgiraffers'\n",
    "\n",
    "# print(team_@_name)"
   ]
  },
  {
   "cell_type": "markdown",
   "metadata": {},
   "source": [
    "3. 파이썬 예약어(if, else, for, while, ...)을 사용할 수 없다."
   ]
  },
  {
   "cell_type": "code",
   "execution_count": 13,
   "metadata": {},
   "outputs": [],
   "source": [
    "# else = \"오지라퍼스\""
   ]
  }
 ],
 "metadata": {
  "kernelspec": {
   "display_name": "pylecture_env",
   "language": "python",
   "name": "python3"
  },
  "language_info": {
   "codemirror_mode": {
    "name": "ipython",
    "version": 3
   },
   "file_extension": ".py",
   "mimetype": "text/x-python",
   "name": "python",
   "nbconvert_exporter": "python",
   "pygments_lexer": "ipython3",
   "version": "3.12.7"
  }
 },
 "nbformat": 4,
 "nbformat_minor": 2
}
