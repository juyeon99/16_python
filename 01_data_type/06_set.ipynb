{
 "cells": [
  {
   "cell_type": "markdown",
   "metadata": {},
   "source": [
    "# 06. Set\n",
    "---\n",
    "## 06-01. Set 개요\n",
    "### 06-01-01. Set 이란?\n",
    "* 중복된 요소를 허용하지 않으며 순서없이 요소를 저장하는 자료형\n",
    "* 중복 제거가 필요할 때 유용하게 사용\n",
    "* 중괄호{} 사용하여 집합 생성"
   ]
  },
  {
   "cell_type": "code",
   "execution_count": 1,
   "metadata": {},
   "outputs": [],
   "source": [
    "safari_set = {'bear', 'koala', 'gorilla', 'squirrel'}\n",
    "\n",
    "# 여러가지 타입 집합 가능\n",
    "mixed_set = {1, \"bear\", (1,2,3)}"
   ]
  },
  {
   "cell_type": "markdown",
   "metadata": {},
   "source": [
    "* set()을 사용해 형변환 가능"
   ]
  },
  {
   "cell_type": "code",
   "execution_count": 4,
   "metadata": {},
   "outputs": [
    {
     "name": "stdout",
     "output_type": "stream",
     "text": [
      "<class 'set'>\n"
     ]
    }
   ],
   "source": [
    "another_safari_set = set([\"Monkey\", \"Tiger\", \"Wolf\"])\n",
    "print(type(another_safari_set))"
   ]
  },
  {
   "cell_type": "markdown",
   "metadata": {},
   "source": [
    "### 06-01-03. Set의 특징\n",
    "1. 순서가 없는 자료형이며, 순서가 없으므로 인덱스를 사용한 접근이 불가"
   ]
  },
  {
   "cell_type": "code",
   "execution_count": 5,
   "metadata": {},
   "outputs": [
    {
     "name": "stdout",
     "output_type": "stream",
     "text": [
      "{'bear', 'gorilla', 'squirrel', 'pig'}\n"
     ]
    }
   ],
   "source": [
    "ohgiraffers = {'pig', 'squirrel', 'bear', 'gorilla'}\n",
    "print(ohgiraffers)\n",
    "# print(ohgiraffers[0])"
   ]
  },
  {
   "cell_type": "markdown",
   "metadata": {},
   "source": [
    "2. 중복을 허용하지 않으므로 동일한 값은 하나만 저장"
   ]
  },
  {
   "cell_type": "code",
   "execution_count": 6,
   "metadata": {},
   "outputs": [
    {
     "name": "stdout",
     "output_type": "stream",
     "text": [
      "{'bear', 'gorilla', 'squirrel', 'pig'}\n"
     ]
    }
   ],
   "source": [
    "ohgiraffers = {'pig', 'squirrel', 'bear', 'gorilla', 'pig'}\n",
    "print(ohgiraffers)"
   ]
  },
  {
   "cell_type": "markdown",
   "metadata": {},
   "source": [
    "3. 가변성을 가진 자료형으로 데이터(요소) 추가/제거 가능\n",
    "* 순서가 없는 자료형이기 때문에 특정 요소에 접근할 수 없어 직접 변경이 불가능"
   ]
  },
  {
   "cell_type": "code",
   "execution_count": 9,
   "metadata": {},
   "outputs": [
    {
     "name": "stdout",
     "output_type": "stream",
     "text": [
      "{'bear', 'gorilla', 'squirrel'}\n",
      "{'mouse', 'squirrel', 'gorilla', 'bear'}\n"
     ]
    }
   ],
   "source": [
    "ohgiraffers = {'pig', 'squirrel', 'bear', 'gorilla', 'pig'}\n",
    "\n",
    "# 삭제\n",
    "ohgiraffers.remove('pig')\n",
    "print(ohgiraffers)\n",
    "\n",
    "# 추가\n",
    "ohgiraffers.add('mouse')\n",
    "print(ohgiraffers)"
   ]
  },
  {
   "cell_type": "markdown",
   "metadata": {},
   "source": [
    "4. in 키워드를 통해 포함 여부를 반환받을 수 있다."
   ]
  },
  {
   "cell_type": "code",
   "execution_count": 10,
   "metadata": {},
   "outputs": [
    {
     "name": "stdout",
     "output_type": "stream",
     "text": [
      "True\n"
     ]
    }
   ],
   "source": [
    "ohgiraffers = {'pig', 'squirrel', 'bear', 'gorilla', 'pig'}\n",
    "print('bear' in ohgiraffers)"
   ]
  },
  {
   "cell_type": "markdown",
   "metadata": {},
   "source": [
    "---\n",
    "## 06-02. Set의 메소드\n",
    "### 06-02-01. 요소를 추가하는 메소드\n",
    "1. add()\n",
    "* set에 새로운 단일 요소 추가"
   ]
  },
  {
   "cell_type": "code",
   "execution_count": 27,
   "metadata": {},
   "outputs": [
    {
     "name": "stdout",
     "output_type": "stream",
     "text": [
      "{'elephant', 'squirrel', 'gorilla', 'bear', 'pig'}\n"
     ]
    }
   ],
   "source": [
    "ohgiraffers = {'pig', 'squirrel', 'bear', 'gorilla', 'pig'}\n",
    "ohgiraffers.add(\"elephant\")\n",
    "\n",
    "print(ohgiraffers)"
   ]
  },
  {
   "cell_type": "markdown",
   "metadata": {},
   "source": [
    "2. update()\n",
    "* set에 여러 요소 추가 가능\n",
    "* 리스트, 튜플, 문자열 등에서 요소를 가져와 추가 가능"
   ]
  },
  {
   "cell_type": "code",
   "execution_count": 16,
   "metadata": {},
   "outputs": [
    {
     "name": "stdout",
     "output_type": "stream",
     "text": [
      "{'wolf', 'elephant', 'monkey', 'squirrel', 'gorilla', 'bear', 'pig'}\n"
     ]
    }
   ],
   "source": [
    "ohgiraffers.update([\"monkey\", \"wolf\"])\n",
    "print(ohgiraffers)"
   ]
  },
  {
   "cell_type": "markdown",
   "metadata": {},
   "source": [
    "### 06-02-02. 요소를 제거하는 메소드\n",
    "1. remove()\n",
    "* set에서 특정 요소를 제거하는데 사용\n",
    "* 존재하지 않는 요소를 지우려하면 에러"
   ]
  },
  {
   "cell_type": "code",
   "execution_count": 17,
   "metadata": {},
   "outputs": [
    {
     "name": "stdout",
     "output_type": "stream",
     "text": [
      "{'wolf', 'monkey', 'squirrel', 'gorilla', 'bear', 'pig'}\n"
     ]
    }
   ],
   "source": [
    "ohgiraffers.remove('elephant')\n",
    "print(ohgiraffers)"
   ]
  },
  {
   "cell_type": "markdown",
   "metadata": {},
   "source": [
    "2. discard()\n",
    "* set에서 특정 요소를 제거하는데 사용\n",
    "* remove()와 달리 특정 요소가 집합에 존재하지 않아도 에러 발생 X"
   ]
  },
  {
   "cell_type": "code",
   "execution_count": 18,
   "metadata": {},
   "outputs": [
    {
     "name": "stdout",
     "output_type": "stream",
     "text": [
      "{'wolf', 'monkey', 'squirrel', 'gorilla', 'bear', 'pig'}\n"
     ]
    }
   ],
   "source": [
    "print(ohgiraffers)\n",
    "ohgiraffers.discard('cat')"
   ]
  },
  {
   "cell_type": "markdown",
   "metadata": {},
   "source": [
    "3. pop()\n",
    "* 임의의 요소를 제거하고 그 값 반환\n",
    "* (set은 순서가 없기 때문에 어떤 요소가 삭제될지 모름)"
   ]
  },
  {
   "cell_type": "code",
   "execution_count": 28,
   "metadata": {},
   "outputs": [
    {
     "name": "stdout",
     "output_type": "stream",
     "text": [
      "elephant\n",
      "{'squirrel', 'gorilla', 'bear', 'pig'}\n"
     ]
    }
   ],
   "source": [
    "temp = ohgiraffers.pop()\n",
    "print(temp)\n",
    "print(ohgiraffers)"
   ]
  },
  {
   "cell_type": "markdown",
   "metadata": {},
   "source": [
    "4. clear()\n",
    "* 모든 요소를 제거하고 빈 set으로 만드는 메소드"
   ]
  },
  {
   "cell_type": "code",
   "execution_count": 30,
   "metadata": {},
   "outputs": [
    {
     "name": "stdout",
     "output_type": "stream",
     "text": [
      "set()\n"
     ]
    }
   ],
   "source": [
    "ohgiraffers.clear()\n",
    "print(ohgiraffers)"
   ]
  },
  {
   "cell_type": "markdown",
   "metadata": {},
   "source": [
    "---\n",
    "### 06-02-03. 집합 연산 메소드\n",
    "\n",
    "1. union()\n",
    "* 두 개 이상의 집합을 합쳐서 새로운 집합 반환 (합집합)\n",
    "* 중복된 요소 제거, 모든 요소를 포함하는 새로운 집합을 만든다."
   ]
  },
  {
   "cell_type": "code",
   "execution_count": 32,
   "metadata": {},
   "outputs": [
    {
     "name": "stdout",
     "output_type": "stream",
     "text": [
      "{'squirrel', 'tiger', 'gorilla', 'bear', 'pig'}\n",
      "{'squirrel', 'tiger', 'gorilla', 'bear', 'pig'}\n"
     ]
    }
   ],
   "source": [
    "java_team = {'squirrel', 'gorilla', 'tiger', 'bear'}\n",
    "python_team = {'pig', 'bear'}\n",
    "\n",
    "ohgiraffers = java_team.union(python_team)\n",
    "print(ohgiraffers)\n",
    "\n",
    "print(java_team | python_team)"
   ]
  },
  {
   "cell_type": "markdown",
   "metadata": {},
   "source": [
    "2. intersection()\n",
    "* 두 개 이상의 집합에서 공통된 요소만을 포함하는 새로운 집합 반환 (교집합)"
   ]
  },
  {
   "cell_type": "code",
   "execution_count": 33,
   "metadata": {},
   "outputs": [
    {
     "name": "stdout",
     "output_type": "stream",
     "text": [
      "{'bear'}\n",
      "{'bear'}\n"
     ]
    }
   ],
   "source": [
    "print(java_team.intersection(python_team))\n",
    "print(java_team & python_team)"
   ]
  },
  {
   "cell_type": "markdown",
   "metadata": {},
   "source": [
    "3. difference()\n",
    "* 첫 번째 집합에는 포함되지만 두 번째 집합에는 포함되지 않는 새로운 집합 반환 (차집합)"
   ]
  },
  {
   "cell_type": "code",
   "execution_count": 36,
   "metadata": {},
   "outputs": [
    {
     "name": "stdout",
     "output_type": "stream",
     "text": [
      "{'tiger', 'gorilla', 'squirrel'}\n",
      "{'tiger', 'gorilla', 'squirrel'}\n"
     ]
    }
   ],
   "source": [
    "print(java_team.difference(python_team))\n",
    "print(java_team - python_team)"
   ]
  },
  {
   "cell_type": "markdown",
   "metadata": {},
   "source": [
    "4. symmetric_difference()\n",
    "* 합집합에서 교집합을 뺀 결과\n",
    "* 두 집합 중 어느 한 쪽만 포함된 요소들로 구성된 새로운 집합을 반환"
   ]
  },
  {
   "cell_type": "code",
   "execution_count": 37,
   "metadata": {},
   "outputs": [
    {
     "name": "stdout",
     "output_type": "stream",
     "text": [
      "{'tiger', 'gorilla', 'squirrel', 'pig'}\n",
      "{'tiger', 'gorilla', 'squirrel', 'pig'}\n"
     ]
    }
   ],
   "source": [
    "print(java_team.symmetric_difference(python_team))\n",
    "print(java_team ^ python_team)"
   ]
  },
  {
   "cell_type": "markdown",
   "metadata": {},
   "source": [
    "### 06-02-04. 복사 메소드\n",
    "copy()\n",
    "* 기존 집합의 shallow copy 생성 <br>\n",
    "얕은 복사<br>\n",
    "-> 원본 집합과 복사본 집합이 서로 독립적, 한쪽을 변경해도 다른쪽에 영향을 미치지 않는다."
   ]
  },
  {
   "cell_type": "code",
   "execution_count": 40,
   "metadata": {},
   "outputs": [
    {
     "name": "stdout",
     "output_type": "stream",
     "text": [
      "{'tiger', 'gorilla', 'squirrel'}\n",
      "{'tiger', 'gorilla', 'squirrel'}\n",
      "{'tiger', 'gorilla', 'squirrel'}\n",
      "{'gorilla', 'squirrel'}\n",
      "1274235385920\n",
      "1274235383456\n"
     ]
    }
   ],
   "source": [
    "ohgiraffers = {'squirrel', 'gorilla', 'tiger'}\n",
    "shallow_ohgiraffers = ohgiraffers.copy()\n",
    "\n",
    "print(ohgiraffers)\n",
    "print(shallow_ohgiraffers)\n",
    "\n",
    "shallow_ohgiraffers.remove('tiger')\n",
    "\n",
    "print(ohgiraffers)\n",
    "print(shallow_ohgiraffers)\n",
    "\n",
    "print(id(ohgiraffers))\n",
    "print(id(shallow_ohgiraffers))"
   ]
  }
 ],
 "metadata": {
  "kernelspec": {
   "display_name": "pylecture_env",
   "language": "python",
   "name": "python3"
  },
  "language_info": {
   "codemirror_mode": {
    "name": "ipython",
    "version": 3
   },
   "file_extension": ".py",
   "mimetype": "text/x-python",
   "name": "python",
   "nbconvert_exporter": "python",
   "pygments_lexer": "ipython3",
   "version": "3.12.7"
  }
 },
 "nbformat": 4,
 "nbformat_minor": 2
}
