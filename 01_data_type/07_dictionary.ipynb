{
 "cells": [
  {
   "cell_type": "markdown",
   "metadata": {},
   "source": [
    "# 07. Dictionary\n",
    "---\n",
    "## 07-01. Dictionary 개요\n",
    "### 07-01-01. Dictionary 표현식"
   ]
  },
  {
   "cell_type": "code",
   "execution_count": 1,
   "metadata": {},
   "outputs": [
    {
     "name": "stdout",
     "output_type": "stream",
     "text": [
      "<class 'dict'>\n",
      "bear\n",
      "ohgiraffers\n"
     ]
    }
   ],
   "source": [
    "teacher = {'name':'bear', 'team':'ohgiraffers'}\n",
    "\n",
    "print(type(teacher))\n",
    "\n",
    "print(teacher['name'])\n",
    "print(teacher['team'])"
   ]
  },
  {
   "cell_type": "markdown",
   "metadata": {},
   "source": [
    "### 07-01-02. Dictionary의 특징\n",
    "1. key와 value 쌍으로 이루어진 데이터\n",
    "* 사전에서 단어를 찾아 뜻을 확인하는 것처럼, Dictionary에서 키를 사용하여 값을 찾고 활용 가능"
   ]
  },
  {
   "cell_type": "code",
   "execution_count": 2,
   "metadata": {},
   "outputs": [
    {
     "name": "stdout",
     "output_type": "stream",
     "text": [
      "{'tiger': 'langChain', 'squirrel': 'JPA', 'bear': 'python', 'gorilla': 'spring'}\n",
      "python\n"
     ]
    }
   ],
   "source": [
    "ohgiraffers = {\n",
    "    'tiger' : 'langChain',\n",
    "    'squirrel' : 'JPA',\n",
    "    'bear' : 'python',\n",
    "    'gorilla' : 'spring',\n",
    "}\n",
    "\n",
    "print(ohgiraffers)\n",
    "print(ohgiraffers['bear'])"
   ]
  },
  {
   "cell_type": "markdown",
   "metadata": {},
   "source": [
    "2. 키는 고유값, 불변\n",
    "* 키는 유일하게 존재해야 하므로 동일한 키로 여러 값 저장 불가\n",
    "* 중복 키로 값을 저장하면 기존값을 덮어쓴다.\n",
    "<br> => 데이터 검색 및 관리의 효율성 증가\n",
    "* key로 tuple(불변하므로) 사용 가능"
   ]
  },
  {
   "cell_type": "code",
   "execution_count": 4,
   "metadata": {},
   "outputs": [
    {
     "name": "stdout",
     "output_type": "stream",
     "text": [
      "bear.ohgiraffers\n"
     ]
    }
   ],
   "source": [
    "valid_key_dic = {(\"name\", \"team\") : 'bear.ohgiraffers'}\n",
    "print(valid_key_dic[(\"name\", \"team\")])"
   ]
  },
  {
   "cell_type": "markdown",
   "metadata": {},
   "source": [
    "3. Dictionary는 가변적인 구조\n",
    "* Dictionary는 생성 후 key-value 쌍을 추가/수정/삭제 가능"
   ]
  },
  {
   "cell_type": "code",
   "execution_count": 9,
   "metadata": {},
   "outputs": [
    {
     "name": "stdout",
     "output_type": "stream",
     "text": [
      "python\n",
      "java\n"
     ]
    }
   ],
   "source": [
    "ohgiraffers = {\n",
    "    'tiger' : 'langChain',\n",
    "    'squirrel' : 'JPA',\n",
    "    'bear' : 'python',\n",
    "    'gorilla' : 'spring',\n",
    "}\n",
    "\n",
    "print(ohgiraffers['bear'])\n",
    "\n",
    "ohgiraffers['bear'] = 'java'\n",
    "\n",
    "print(ohgiraffers['bear'])"
   ]
  },
  {
   "cell_type": "code",
   "execution_count": 10,
   "metadata": {},
   "outputs": [],
   "source": [
    "# del 키워드 사용 가능\n",
    "del ohgiraffers\n",
    "# print(ohgiraffers)"
   ]
  },
  {
   "cell_type": "markdown",
   "metadata": {},
   "source": [
    "---\n",
    "## 07-02. Dictionary 메소드\n",
    "1. get()\n",
    "* 키를 사용하여 값을 가져오는 메소드\n",
    "* 키가 존재하지 않으면 기본값을 반환하거나, None 반환"
   ]
  },
  {
   "cell_type": "code",
   "execution_count": 11,
   "metadata": {},
   "outputs": [
    {
     "name": "stdout",
     "output_type": "stream",
     "text": [
      "python\n",
      "python\n",
      "None\n",
      "default_value\n"
     ]
    }
   ],
   "source": [
    "ohgiraffers = {\n",
    "    'tiger' : 'langChain',\n",
    "    'squirrel' : 'JPA',\n",
    "    'bear' : 'python',\n",
    "    'gorilla' : 'spring',\n",
    "}\n",
    "\n",
    "print(ohgiraffers['bear'])\n",
    "print(ohgiraffers.get('bear'))\n",
    "print(ohgiraffers.get('bear2')) # 없으면 None\n",
    "print(ohgiraffers.get('bear2', 'default_value'))    # 없으면 default_value"
   ]
  },
  {
   "cell_type": "code",
   "execution_count": 14,
   "metadata": {},
   "outputs": [
    {
     "name": "stdout",
     "output_type": "stream",
     "text": [
      "dict_keys(['tiger', 'squirrel', 'bear', 'gorilla'])\n",
      "dict_values(['langChain', 'JPA', 'python', 'spring'])\n",
      "dict_items([('tiger', 'langChain'), ('squirrel', 'JPA'), ('bear', 'python'), ('gorilla', 'spring')])\n"
     ]
    }
   ],
   "source": [
    "# keys()\n",
    "# Dictionary의 모든 키 반환\n",
    "print(ohgiraffers.keys())\n",
    "\n",
    "# values()\n",
    "# Dictionary의 모든 값 반환\n",
    "print(ohgiraffers.values())\n",
    "\n",
    "# items()\n",
    "# Dictionary의 모든 key-value 쌍을 반환\n",
    "print(ohgiraffers.items())"
   ]
  }
 ],
 "metadata": {
  "kernelspec": {
   "display_name": "pylecture_env",
   "language": "python",
   "name": "python3"
  },
  "language_info": {
   "codemirror_mode": {
    "name": "ipython",
    "version": 3
   },
   "file_extension": ".py",
   "mimetype": "text/x-python",
   "name": "python",
   "nbconvert_exporter": "python",
   "pygments_lexer": "ipython3",
   "version": "3.12.7"
  }
 },
 "nbformat": 4,
 "nbformat_minor": 2
}
