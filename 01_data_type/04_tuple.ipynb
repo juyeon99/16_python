{
 "cells": [
  {
   "cell_type": "markdown",
   "metadata": {},
   "source": [
    "# 04. 튜플 (Tuple)\n",
    "----\n",
    "## 04-01. 튜플 개요\n",
    "### 04-01-01. 튜플이란?\n",
    "* 여러개의 값을 하나의 변수에 저장할 수 있는 자료구조\n",
    "* 튜플은 한 번 생성되면 값 변경 불가\n",
    "\n",
    "### 04-01-02. 튜플 표현식\n",
    "* 튜플은 소괄호를 사용하거나 사용하지 않고 생성 가능\n",
    "* 생성된 이후에는 값 변경 불가"
   ]
  },
  {
   "cell_type": "code",
   "execution_count": null,
   "metadata": {},
   "outputs": [],
   "source": [
    "튜플명 = ('값1', '값2', ...)"
   ]
  },
  {
   "cell_type": "code",
   "execution_count": 4,
   "metadata": {},
   "outputs": [
    {
     "name": "stdout",
     "output_type": "stream",
     "text": [
      "((1, 2, 'hello'), ('test', 1, 2, 3, 4))\n",
      "(1, 2, 'hello')\n",
      "hello\n",
      "(1, 2, 3)\n"
     ]
    }
   ],
   "source": [
    "tuples = (1,2,'hello'), ('test',1,2,3,4)\n",
    "\n",
    "print(tuples)\n",
    "print(tuples[0])\n",
    "print(tuples[0][2])\n",
    "\n",
    "no_wrap_tuple = 1,2,3\n",
    "\n",
    "print(no_wrap_tuple)"
   ]
  },
  {
   "cell_type": "markdown",
   "metadata": {},
   "source": [
    "---\n",
    "## 04-02. 튜플 연산\n",
    "### 04-02-01. 불변 객체\n",
    "* 튜플은 불변 객체이므로 요소 값을 한 번 할당하면 추가/수정/삭제 불가\n",
    "* 이 때 값을 재할당하면 값이 다시 입력될 수 있는데,<br> 기존의 변수에 값이 재할당되는 것이 아닌 새로운 변수가 생성되는 것"
   ]
  },
  {
   "cell_type": "code",
   "execution_count": 6,
   "metadata": {},
   "outputs": [],
   "source": [
    "tuples = (1,2,'hello'), ('test',1,2,3,4)\n",
    "# tuples[0] = (1,2,3,4)   # Error"
   ]
  },
  {
   "cell_type": "code",
   "execution_count": 9,
   "metadata": {},
   "outputs": [
    {
     "name": "stdout",
     "output_type": "stream",
     "text": [
      "2716155639616\n",
      "2716148879616\n"
     ]
    }
   ],
   "source": [
    "# id(): 인자로 전달된 객체의 주소값 반환\n",
    "# 메모리의 위치가 다르다.\n",
    "# 튜플은 불변 객체이기 때문에 튜플이 변경될 때마다 새로운 객체 생성\n",
    "test_list = (1,2,3,4)\n",
    "print(id(test_list))\n",
    "\n",
    "test_list = (3,4,5)\n",
    "print(id(test_list))"
   ]
  },
  {
   "cell_type": "code",
   "execution_count": 10,
   "metadata": {},
   "outputs": [
    {
     "name": "stdout",
     "output_type": "stream",
     "text": [
      "('bear', 'koala', 'gorilla', 'squirrel', 'monkey', 'tiger', 'wolf')\n",
      "('bear', 'koala', 'gorilla', 'squirrel', 'bear', 'koala', 'gorilla', 'squirrel', 'bear', 'koala', 'gorilla', 'squirrel')\n",
      "7\n"
     ]
    }
   ],
   "source": [
    "safari_tuple = ('bear','koala','gorilla','squirrel')\n",
    "\n",
    "# 튜플 합치기\n",
    "another_safari_tuple = ('monkey', 'tiger', 'wolf')\n",
    "print(safari_tuple + another_safari_tuple)\n",
    "\n",
    "# 튜플 반복\n",
    "print(safari_tuple * 3)\n",
    "\n",
    "# 튜플의 길이\n",
    "print(len(safari_tuple + another_safari_tuple))"
   ]
  }
 ],
 "metadata": {
  "kernelspec": {
   "display_name": "pylecture_env",
   "language": "python",
   "name": "python3"
  },
  "language_info": {
   "codemirror_mode": {
    "name": "ipython",
    "version": 3
   },
   "file_extension": ".py",
   "mimetype": "text/x-python",
   "name": "python",
   "nbconvert_exporter": "python",
   "pygments_lexer": "ipython3",
   "version": "3.12.7"
  }
 },
 "nbformat": 4,
 "nbformat_minor": 2
}
