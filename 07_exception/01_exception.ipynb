{
 "cells": [
  {
   "cell_type": "markdown",
   "metadata": {},
   "source": [
    "# 01. 예외(Exception) 처리\n",
    "---\n",
    "## 01-01. 예외 개요\n",
    "### 01-01-01. 예외란?\n",
    "* 예외는 문장이나 표현식이 문법절으로 올바르다 해도 프로그램이 실행되는 동안 발생하는 **예상치 못한 오류**이다.\n",
    "* 예외가 발생할 경우 프로그램이 의도한 대로 동작하지 않게 되기 때문에 예외를 적절하게 처리하여 프로그램이 중단되는 상황을 피해주어야 한다.\n",
    "\n",
    "### 01-01-02. 예외 발생\n",
    "* 특수한 경우 예외를 발생시키고 처리할 목적으로 만들어 사용하기도 한다.\n",
    "* 내장 클래스인 Exception 클래스를 상속하여 만들 수 있다."
   ]
  },
  {
   "cell_type": "code",
   "execution_count": 4,
   "metadata": {},
   "outputs": [
    {
     "name": "stdout",
     "output_type": "stream",
     "text": [
      "허용되지 않은 닉네임입니다.\n"
     ]
    }
   ],
   "source": [
    "class MyError(Exception):\n",
    "    pass\n",
    "\n",
    "def print_nick(nick):\n",
    "    if nick == '곰':\n",
    "        raise MyError()\n",
    "    \n",
    "    print(nick)\n",
    "\n",
    "nickname = input(\"닉네임을 입력하세요\")\n",
    "\n",
    "try:\n",
    "    print_nick(nickname)\n",
    "except MyError:\n",
    "    print(\"허용되지 않은 닉네임입니다.\")"
   ]
  },
  {
   "cell_type": "markdown",
   "metadata": {},
   "source": [
    "## 01-02. 예외처리 기본 문법\n",
    "* 예외 처리는 기본적으로 try-except 구조로 작성\n",
    "* try 블럭 안에는 실행할 코드 작성 (exception 발생이 예상되는 코드)\n",
    "* except 블럭 안에는 try 블럭 안에서 실행되는 코드에서 예외 발생 시 동작할 코드 작성"
   ]
  },
  {
   "cell_type": "code",
   "execution_count": 6,
   "metadata": {},
   "outputs": [],
   "source": [
    "try:\n",
    "    (실행할 코드)\n",
    "except:\n",
    "    (예외 발생 시 동작할 코드)"
   ]
  },
  {
   "cell_type": "code",
   "execution_count": 7,
   "metadata": {},
   "outputs": [
    {
     "name": "stdout",
     "output_type": "stream",
     "text": [
      "0으로는 나눌 수 없습니다.\n"
     ]
    }
   ],
   "source": [
    "# 예시\n",
    "try:\n",
    "    num = int(input('정수를 입력하세요.'))\n",
    "    print(10 / num)\n",
    "except ZeroDivisionError:\n",
    "    print(\"0으로는 나눌 수 없습니다.\")\n",
    "except ValueError:\n",
    "    print('int로 변환되지 않는 문자를 입력하셨습니다.')"
   ]
  },
  {
   "cell_type": "markdown",
   "metadata": {},
   "source": [
    "### 01-02-02. 예외 상황에 대한 처리"
   ]
  },
  {
   "cell_type": "code",
   "execution_count": 9,
   "metadata": {},
   "outputs": [
    {
     "name": "stdout",
     "output_type": "stream",
     "text": [
      "존재하지 않는 인덱스입니다.\n"
     ]
    }
   ],
   "source": [
    "try:\n",
    "    a = [1,2]\n",
    "    print(a[3])\n",
    "    4/0\n",
    "except IndexError:\n",
    "    print('존재하지 않는 인덱스입니다.')\n",
    "except ZeroDivisionError:\n",
    "    print(\"0으로는 나눌 수 없습니다.\")"
   ]
  },
  {
   "cell_type": "markdown",
   "metadata": {},
   "source": [
    "### 01-02-03. 오류 변수를 사용한 처리"
   ]
  },
  {
   "cell_type": "code",
   "execution_count": null,
   "metadata": {},
   "outputs": [],
   "source": [
    "try:\n",
    "    (실행할 코드)\n",
    "except 오류 as 오류변수:\n",
    "    (오류 발생 시 동작할 코드)\n",
    "    (오류에 대한 내용을 오류 변수를 통해 참조 가능)"
   ]
  },
  {
   "cell_type": "code",
   "execution_count": 10,
   "metadata": {},
   "outputs": [
    {
     "name": "stdout",
     "output_type": "stream",
     "text": [
      "division by zero\n"
     ]
    }
   ],
   "source": [
    "# 예시\n",
    "try:\n",
    "    4 / 0\n",
    "except ZeroDivisionError as e:\n",
    "    print(e)"
   ]
  },
  {
   "cell_type": "markdown",
   "metadata": {},
   "source": [
    "## 01-03. 예외 처리 추가 문법\n",
    "### 01-03-01. finally\n",
    "* finally는 try 블럭 뒤에 붙여 사용 가능\n",
    "* finally 블럭 내부의 코드는 예외 발생 여부와 상관 없이 항상 수행된다."
   ]
  },
  {
   "cell_type": "code",
   "execution_count": 13,
   "metadata": {},
   "outputs": [],
   "source": [
    "try:\n",
    "    f = open('없는파일.txt', 'r')\n",
    "finally:\n",
    "    print('finally 블럭은 항상 동작한다.')  # try 블럭 수행 중간 오류가 발생해도 마지막에 무조건 실행된다.\n",
    "    f.close()"
   ]
  },
  {
   "cell_type": "markdown",
   "metadata": {},
   "source": [
    "### 01-03-02. else\n",
    "* try문에 else 키워드 사용 가능\n",
    "* try문 수행 중 오류 발생 시 except 블럭에 해당하는 코드를 동작시키고 오류를 발생하지 않았을 경우에만 else 블럭 동작"
   ]
  },
  {
   "cell_type": "code",
   "execution_count": null,
   "metadata": {},
   "outputs": [],
   "source": [
    "try:\n",
    "    (동작할 코드)\n",
    "except 오류:\n",
    "    (오류 발생 시 동작할 코드)\n",
    "else:\n",
    "    (오류가 발생하지 않을 시 동작할 코드)"
   ]
  },
  {
   "cell_type": "code",
   "execution_count": 16,
   "metadata": {},
   "outputs": [
    {
     "name": "stdout",
     "output_type": "stream",
     "text": [
      "성인입니다.\n"
     ]
    }
   ],
   "source": [
    "# 예시\n",
    "try:\n",
    "    age = int(input('나이를 입력하세요.'))\n",
    "except:\n",
    "    print('정수를 입력해주세요')\n",
    "else:\n",
    "    if age <= 18:\n",
    "        print('미성년자입니다.')\n",
    "    else:\n",
    "        print('성인입니다.')"
   ]
  },
  {
   "cell_type": "markdown",
   "metadata": {},
   "source": [
    "### 01-03-03. pass\n",
    "* 특정 오류 발생 시 그냥 통과시켜야 하는 경우(오류 회피) 사용"
   ]
  },
  {
   "cell_type": "code",
   "execution_count": 17,
   "metadata": {},
   "outputs": [],
   "source": [
    "try:\n",
    "    f = open('없는 파일.txt', 'r')\n",
    "except FileNotFoundError:\n",
    "    pass"
   ]
  }
 ],
 "metadata": {
  "kernelspec": {
   "display_name": "pylecture_env",
   "language": "python",
   "name": "python3"
  },
  "language_info": {
   "codemirror_mode": {
    "name": "ipython",
    "version": 3
   },
   "file_extension": ".py",
   "mimetype": "text/x-python",
   "name": "python",
   "nbconvert_exporter": "python",
   "pygments_lexer": "ipython3",
   "version": "3.12.7"
  }
 },
 "nbformat": 4,
 "nbformat_minor": 2
}
